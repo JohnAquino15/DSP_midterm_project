{
 "cells": [
  {
   "cell_type": "markdown",
   "metadata": {
    "id": "GwSaFPX5wj5q"
   },
   "source": [
    "**Exploring Daily Temperature and Humidity Shifts in Malate, Manila**"
   ]
  },
  {
   "cell_type": "markdown",
   "metadata": {
    "id": "klhuk3UecHge"
   },
   "source": [
    "**DSP MIDTERM PROJECT**\n",
    "\n",
    "\n",
    "1.   Aquino, John Benedict\n",
    "2.   De Guzman, Jose Raymundo\n",
    "3.   Ibarra, Jacky Bruce\n",
    "4.   Acerado, Keneth\n"
   ]
  },
  {
   "cell_type": "markdown",
   "metadata": {
    "id": "HAOM3ofw6RrV"
   },
   "source": [
    "**Analysis Goal.** The goal of project is to explore collected data from sensors whilst applying the concepts\n",
    "of DSP. Specifically, the project should answer the following questions:\n",
    "\n",
    "\n",
    "1.   What is the periodicity of the data?\n",
    "2.   What are the central tendencies of the data according to time of day, day of week, and in general?\n",
    "3. What patterns arise from the data you are analyzing?\n",
    "\n"
   ]
  },
  {
   "cell_type": "code",
   "execution_count": 1,
   "metadata": {
    "id": "pJqV-Ph_ue1Y"
   },
   "outputs": [],
   "source": [
    "import pandas as pd\n",
    "import numpy as np\n",
    "import matplotlib.pyplot as plt\n",
    "import matplotlib as mpl\n",
    "from scipy.stats import f_oneway\n",
    "import seaborn as sns"
   ]
  },
  {
   "cell_type": "code",
   "execution_count": 2,
   "metadata": {
    "colab": {
     "base_uri": "https://localhost:8080/",
     "height": 206
    },
    "id": "Te90HZOG87ns",
    "outputId": "65331fcf-6cda-4ca0-e73b-c081658cb862"
   },
   "outputs": [
    {
     "data": {
      "text/html": [
       "<div>\n",
       "<style scoped>\n",
       "    .dataframe tbody tr th:only-of-type {\n",
       "        vertical-align: middle;\n",
       "    }\n",
       "\n",
       "    .dataframe tbody tr th {\n",
       "        vertical-align: top;\n",
       "    }\n",
       "\n",
       "    .dataframe thead th {\n",
       "        text-align: right;\n",
       "    }\n",
       "</style>\n",
       "<table border=\"1\" class=\"dataframe\">\n",
       "  <thead>\n",
       "    <tr style=\"text-align: right;\">\n",
       "      <th></th>\n",
       "      <th>DateTime</th>\n",
       "      <th>Temperature</th>\n",
       "      <th>Humidity</th>\n",
       "    </tr>\n",
       "  </thead>\n",
       "  <tbody>\n",
       "    <tr>\n",
       "      <th>0</th>\n",
       "      <td>Monday,-October-23-2023-04:32:12</td>\n",
       "      <td>30.2</td>\n",
       "      <td>80.9</td>\n",
       "    </tr>\n",
       "    <tr>\n",
       "      <th>1</th>\n",
       "      <td>Monday,-October-23-2023-04:47:16</td>\n",
       "      <td>29.9</td>\n",
       "      <td>81.6</td>\n",
       "    </tr>\n",
       "    <tr>\n",
       "      <th>2</th>\n",
       "      <td>Monday,-October-23-2023-05:02:20</td>\n",
       "      <td>30.0</td>\n",
       "      <td>81.7</td>\n",
       "    </tr>\n",
       "    <tr>\n",
       "      <th>3</th>\n",
       "      <td>Monday,-October-23-2023-05:17:24</td>\n",
       "      <td>30.0</td>\n",
       "      <td>81.5</td>\n",
       "    </tr>\n",
       "    <tr>\n",
       "      <th>4</th>\n",
       "      <td>Monday,-October-23-2023-05:32:28</td>\n",
       "      <td>30.2</td>\n",
       "      <td>80.9</td>\n",
       "    </tr>\n",
       "  </tbody>\n",
       "</table>\n",
       "</div>"
      ],
      "text/plain": [
       "                           DateTime  Temperature  Humidity\n",
       "0  Monday,-October-23-2023-04:32:12         30.2      80.9\n",
       "1  Monday,-October-23-2023-04:47:16         29.9      81.6\n",
       "2  Monday,-October-23-2023-05:02:20         30.0      81.7\n",
       "3  Monday,-October-23-2023-05:17:24         30.0      81.5\n",
       "4  Monday,-October-23-2023-05:32:28         30.2      80.9"
      ]
     },
     "execution_count": 2,
     "metadata": {},
     "output_type": "execute_result"
    }
   ],
   "source": [
    "# Load data from an Excel file using pandas\n",
    "df = pd.read_excel(r'C:\\Users\\Akino\\Desktop\\HumidityTempData.xlsx')\n",
    "# Display the first few rows of the DataFrame\n",
    "df.head()"
   ]
  },
  {
   "cell_type": "code",
   "execution_count": 3,
   "metadata": {
    "colab": {
     "base_uri": "https://localhost:8080/"
    },
    "id": "JHYHSIape2Mh",
    "outputId": "590de1bc-e3f9-4c16-dee5-622a005f6504"
   },
   "outputs": [
    {
     "name": "stdout",
     "output_type": "stream",
     "text": [
      "<class 'pandas.core.frame.DataFrame'>\n",
      "RangeIndex: 647 entries, 0 to 646\n",
      "Data columns (total 3 columns):\n",
      " #   Column       Non-Null Count  Dtype  \n",
      "---  ------       --------------  -----  \n",
      " 0   DateTime     647 non-null    object \n",
      " 1   Temperature  645 non-null    float64\n",
      " 2   Humidity     645 non-null    float64\n",
      "dtypes: float64(2), object(1)\n",
      "memory usage: 15.3+ KB\n"
     ]
    }
   ],
   "source": [
    "# Display information about the DataFrame, including data types and non-null values\n",
    "df.info()"
   ]
  },
  {
   "cell_type": "markdown",
   "metadata": {
    "id": "B59R9Alex_c_"
   },
   "source": [
    "It can be observed that:\n",
    "\n",
    "\n",
    "*   The DateTime column data type is object, it has to be converted to DateTime datatype.\n",
    "*   There are 645 non-null values in the Temperature and Humidity columns, but their are 647 entries which means there are 2 null values in each of these columns.\n",
    "\n"
   ]
  },
  {
   "cell_type": "code",
   "execution_count": 4,
   "metadata": {
    "colab": {
     "base_uri": "https://localhost:8080/"
    },
    "id": "7bXVgiaItPMx",
    "outputId": "9fe1c87c-76bb-440d-f5c1-5ee622aaa623"
   },
   "outputs": [
    {
     "data": {
      "text/plain": [
       "DateTime       0\n",
       "Temperature    2\n",
       "Humidity       2\n",
       "dtype: int64"
      ]
     },
     "execution_count": 4,
     "metadata": {},
     "output_type": "execute_result"
    }
   ],
   "source": [
    "# Show the total number of nulls\n",
    "df.isnull().sum()"
   ]
  },
  {
   "cell_type": "markdown",
   "metadata": {
    "id": "G0as5qjZ1k43"
   },
   "source": [
    "This confirms that there are null values in the Temperature and Humidity Columns"
   ]
  },
  {
   "cell_type": "code",
   "execution_count": 5,
   "metadata": {
    "colab": {
     "base_uri": "https://localhost:8080/"
    },
    "id": "k-ZXp4mUpECw",
    "outputId": "9eea793c-97fa-431c-e216-06e0789d98f6"
   },
   "outputs": [
    {
     "data": {
      "text/plain": [
       "DateTime       0\n",
       "Temperature    0\n",
       "Humidity       0\n",
       "dtype: int64"
      ]
     },
     "execution_count": 5,
     "metadata": {},
     "output_type": "execute_result"
    }
   ],
   "source": [
    "# Remove rows with missing (NaN) values from the DataFrame\n",
    "df = df.dropna()\n",
    "df.isnull().sum()"
   ]
  },
  {
   "cell_type": "markdown",
   "metadata": {
    "id": "XDalMFKU2J5b"
   },
   "source": [
    "The null values has been removed."
   ]
  },
  {
   "cell_type": "code",
   "execution_count": 6,
   "metadata": {
    "colab": {
     "base_uri": "https://localhost:8080/"
    },
    "id": "PwhDwrIioZaR",
    "outputId": "24bd1b47-e37d-4e2b-b07d-438e87cca02e"
   },
   "outputs": [
    {
     "data": {
      "text/plain": [
       "0     2023-10-23 04:32:12\n",
       "1     2023-10-23 04:47:16\n",
       "2     2023-10-23 05:02:20\n",
       "3     2023-10-23 05:17:24\n",
       "4     2023-10-23 05:32:28\n",
       "              ...        \n",
       "642   2023-10-29 21:46:00\n",
       "643   2023-10-29 22:01:04\n",
       "644   2023-10-29 22:16:08\n",
       "645   2023-10-29 22:31:12\n",
       "646   2023-10-29 22:46:16\n",
       "Name: DateTime, Length: 645, dtype: datetime64[ns]"
      ]
     },
     "execution_count": 6,
     "metadata": {},
     "output_type": "execute_result"
    }
   ],
   "source": [
    "# Convert the 'DateTime' column to a Pandas datetime data type\n",
    "df['DateTime'] = pd.to_datetime(df['DateTime'], format='%A,-%B-%d-%Y-%H:%M:%S')\n",
    "\n",
    "df['DateTime']"
   ]
  },
  {
   "cell_type": "markdown",
   "metadata": {
    "id": "32-p1xqQg8vt"
   },
   "source": [
    "**Analysis Goal 1: What is the periodicity of the data?**"
   ]
  },
  {
   "cell_type": "code",
   "execution_count": 7,
   "metadata": {
    "colab": {
     "base_uri": "https://localhost:8080/"
    },
    "id": "SxFn9iWJgZgI",
    "outputId": "2e7467eb-84f7-4bca-e07e-cdc32ae4173a"
   },
   "outputs": [
    {
     "name": "stdout",
     "output_type": "stream",
     "text": [
      "Mean Time Interval: 906.9006211180124 seconds or 15.115010351966873 minutes\n",
      "Standard Deviation of Time Intervals: 71.28072598514845 seconds\n"
     ]
    }
   ],
   "source": [
    "df['TimeDiff'] = df['DateTime'].diff()\n",
    "\n",
    "# Analyze the distribution of time intervals\n",
    "time_intervals = df['TimeDiff'].dt.total_seconds()\n",
    "\n",
    "mean_time_interval = time_intervals.mean()\n",
    "std_time_interval = time_intervals.std()\n",
    "\n",
    "print(f\"Mean Time Interval: {mean_time_interval} seconds or {mean_time_interval/60} minutes\")\n",
    "print(f\"Standard Deviation of Time Intervals: {std_time_interval} seconds\")"
   ]
  },
  {
   "cell_type": "markdown",
   "metadata": {
    "id": "AjqoTqAdhuBH"
   },
   "source": [
    " A mean time interval of 906.9 seconds (or 15.12 minutes) indicates the average spacing between data points, and a standard deviation of 71.28 seconds reflects the degree of variability or dispersion around this average spacing."
   ]
  },
  {
   "cell_type": "markdown",
   "metadata": {
    "id": "ccZNkbPxdNKq"
   },
   "source": [
    "**Analysis Goal 2: What are the central tendencies of the data according to time of day, day of week, and in general?**"
   ]
  },
  {
   "cell_type": "code",
   "execution_count": 8,
   "metadata": {
    "colab": {
     "base_uri": "https://localhost:8080/"
    },
    "id": "RENtqwFHoAk9",
    "outputId": "c1da8b53-56c4-4f8a-d298-c9ca51c96a18"
   },
   "outputs": [
    {
     "name": "stdout",
     "output_type": "stream",
     "text": [
      "Central Tendencies by Time of Day:\n",
      "          Temperature               Humidity            \n",
      "                 mean   max   min       mean   max   min\n",
      "TimeOfDay                                               \n",
      "Afternoon   30.795783  33.8  29.9  76.774699  84.3  67.0\n",
      "Morning     30.761446  33.8  23.6  75.940964  84.8  55.2\n",
      "Nighttime   30.679553  33.8  24.9  77.123962  84.3  57.5\n",
      "\n",
      "Central Tendencies by Day of the Week:\n",
      "          Temperature               Humidity            \n",
      "                 mean   max   min       mean   max   min\n",
      "DayOfWeek                                               \n",
      "Monday      30.596154  30.9  29.8  76.947436  81.7  67.5\n",
      "Tuesday     30.694792  31.3  29.8  77.970833  84.3  67.5\n",
      "Wednesday   30.994737  33.8  30.2  77.789474  84.3  75.6\n",
      "Thursday    30.641667  33.8  23.6  75.537500  81.7  55.2\n",
      "Friday      30.792473  33.3  29.9  76.456989  84.8  67.0\n",
      "Saturday    30.651042  33.8  29.9  76.417708  81.7  67.0\n",
      "Sunday      30.721978  32.9  29.8  75.992308  80.9  67.0\n",
      "\n",
      "General Central Tendencies:\n",
      "      Temperature   Humidity\n",
      "mean    30.730543  76.729612\n",
      "max     33.800000  84.800000\n",
      "min     23.600000  55.200000\n"
     ]
    }
   ],
   "source": [
    "morning_start = pd.to_datetime(\"06:00:00\", format='%H:%M:%S').time()\n",
    "afternoon_start = pd.to_datetime(\"12:00:00\", format='%H:%M:%S').time()\n",
    "nighttime_start = pd.to_datetime(\"18:00:00\", format='%H:%M:%S').time()\n",
    "\n",
    "def categorize_time_of_day(time):\n",
    "    if morning_start <= time < afternoon_start:\n",
    "        return \"Morning\"\n",
    "    elif afternoon_start <= time < nighttime_start:\n",
    "        return \"Afternoon\"\n",
    "    else:\n",
    "        return \"Nighttime\"\n",
    "\n",
    "df['TimeOfDay'] = df['DateTime'].dt.time.apply(categorize_time_of_day)\n",
    "\n",
    "# Calculate central tendencies for time of day\n",
    "time_of_day_stats = df.groupby('TimeOfDay')[['Temperature', 'Humidity']].agg(['mean', 'max','min'])\n",
    "\n",
    "# Group data by day of the week\n",
    "df['DayOfWeek'] = df['DateTime'].dt.day_name()\n",
    "\n",
    "# Define the order of weekdays\n",
    "weekday_order = [\"Monday\", \"Tuesday\", \"Wednesday\", \"Thursday\", \"Friday\", \"Saturday\", \"Sunday\"]\n",
    "\n",
    "# Convert 'DayOfWeek' to a Categorical data type with the desired order\n",
    "df['DayOfWeek'] = df['DateTime'].dt.day_name()\n",
    "df['DayOfWeek'] = pd.Categorical(df['DayOfWeek'], categories=weekday_order, ordered=True)\n",
    "\n",
    "# Calculate central tendencies for day of the week\n",
    "day_of_week_stats = df.groupby('DayOfWeek')[['Temperature', 'Humidity']].agg(['mean', 'max','min'])\n",
    "\n",
    "# Calculate general statistics\n",
    "general_stats = df[['Temperature', 'Humidity']].agg(['mean', 'max','min'])\n",
    "\n",
    "# Display the results\n",
    "print(\"Central Tendencies by Time of Day:\")\n",
    "print(time_of_day_stats)\n",
    "print(\"\\nCentral Tendencies by Day of the Week:\")\n",
    "print(day_of_week_stats)\n",
    "print(\"\\nGeneral Central Tendencies:\")\n",
    "print(general_stats)"
   ]
  },
  {
   "cell_type": "markdown",
   "metadata": {
    "id": "wyFrP0P1dpBF"
   },
   "source": [
    "General Central Tendencies\n",
    "*   **mean:** For Temperature, the mean is approximately 30.7305 °C, and for Humidity, it is approximately 76.7296.\n",
    "*   **min:** For Temperature, the minimum value is 23.6, and for Humidity, it is 55.2. These values represent the lowest temperature and humidity recorded.\n",
    "*   **max:** This is the maximum value in each column. For Temperature, the maximum value is 33.8, and for Humidity, it is 84.8. These values represent the highest temperature and humidity recorded in the dataset.\n",
    "\n",
    "\n"
   ]
  },
  {
   "cell_type": "markdown",
   "metadata": {
    "id": "ukKZ9_wpmoFy"
   },
   "source": [
    "**Analysis Goal 3: What patterns arise from the data you are analyzing?**"
   ]
  },
  {
   "cell_type": "code",
   "execution_count": 9,
   "metadata": {
    "colab": {
     "base_uri": "https://localhost:8080/",
     "height": 269
    },
    "id": "jyWGKpLSpI08",
    "outputId": "1714c53f-cffe-43dc-e1eb-0b5ab6fe611a"
   },
   "outputs": [
    {
     "data": {
      "text/html": [
       "<div>\n",
       "<style scoped>\n",
       "    .dataframe tbody tr th:only-of-type {\n",
       "        vertical-align: middle;\n",
       "    }\n",
       "\n",
       "    .dataframe tbody tr th {\n",
       "        vertical-align: top;\n",
       "    }\n",
       "\n",
       "    .dataframe thead th {\n",
       "        text-align: right;\n",
       "    }\n",
       "</style>\n",
       "<table border=\"1\" class=\"dataframe\">\n",
       "  <thead>\n",
       "    <tr style=\"text-align: right;\">\n",
       "      <th></th>\n",
       "      <th>DateTime</th>\n",
       "      <th>Humidity</th>\n",
       "    </tr>\n",
       "  </thead>\n",
       "  <tbody>\n",
       "    <tr>\n",
       "      <th>0</th>\n",
       "      <td>23</td>\n",
       "      <td>76.947436</td>\n",
       "    </tr>\n",
       "    <tr>\n",
       "      <th>1</th>\n",
       "      <td>24</td>\n",
       "      <td>77.970833</td>\n",
       "    </tr>\n",
       "    <tr>\n",
       "      <th>2</th>\n",
       "      <td>25</td>\n",
       "      <td>77.789474</td>\n",
       "    </tr>\n",
       "    <tr>\n",
       "      <th>3</th>\n",
       "      <td>26</td>\n",
       "      <td>75.537500</td>\n",
       "    </tr>\n",
       "    <tr>\n",
       "      <th>4</th>\n",
       "      <td>27</td>\n",
       "      <td>76.456989</td>\n",
       "    </tr>\n",
       "    <tr>\n",
       "      <th>5</th>\n",
       "      <td>28</td>\n",
       "      <td>76.417708</td>\n",
       "    </tr>\n",
       "    <tr>\n",
       "      <th>6</th>\n",
       "      <td>29</td>\n",
       "      <td>75.992308</td>\n",
       "    </tr>\n",
       "  </tbody>\n",
       "</table>\n",
       "</div>"
      ],
      "text/plain": [
       "   DateTime   Humidity\n",
       "0        23  76.947436\n",
       "1        24  77.970833\n",
       "2        25  77.789474\n",
       "3        26  75.537500\n",
       "4        27  76.456989\n",
       "5        28  76.417708\n",
       "6        29  75.992308"
      ]
     },
     "execution_count": 9,
     "metadata": {},
     "output_type": "execute_result"
    }
   ],
   "source": [
    "# Calculate the average daily humidity\n",
    "average_daily_humi = pd.DataFrame(df.groupby([df[\"DateTime\"].dt.day])[\"Humidity\"].mean())\n",
    "\n",
    "# Reset the index to make the day column a regular column\n",
    "average_daily_humi.reset_index(inplace=True)\n",
    "\n",
    "average_daily_humi"
   ]
  },
  {
   "cell_type": "code",
   "execution_count": 10,
   "metadata": {
    "colab": {
     "base_uri": "https://localhost:8080/",
     "height": 872
    },
    "id": "iHnFWM3ppzsR",
    "outputId": "92ce4433-b226-471b-a8f3-3929b8f790db",
    "scrolled": false
   },
   "outputs": [
    {
     "data": {
      "text/plain": [
       "Text(0.5, 0, 'Day')"
      ]
     },
     "execution_count": 10,
     "metadata": {},
     "output_type": "execute_result"
    },
    {
     "data": {
      "image/png": "[encoded data removed]",
      "text/plain": [
       "<Figure size 2000x1000 with 1 Axes>"
      ]
     },
     "metadata": {},
     "output_type": "display_data"
    }
   ],
   "source": [
    "# Create a figure for the plot with a specific size\n",
    "plt.figure(figsize=(20, 10))\n",
    "\n",
    "# Set the title for the plot\n",
    "plt.title(\"Daily Average Humidity From October 23, 2023 to October 29, 2023\")\n",
    "\n",
    "# Create a bar plot using Seaborn, specifying x and y data, and a color palette\n",
    "sns.barplot(x=average_daily_humi['DateTime'], y=average_daily_humi['Humidity'], palette='rocket')\n",
    "\n",
    "# Set the label for the x-axis\n",
    "plt.xlabel(\"Day\")\n"
   ]
  },
  {
   "cell_type": "markdown",
   "metadata": {
    "id": "z0tYeY_p9Phc"
   },
   "source": [
    "It can be observed that:\n",
    "\n",
    "*   The average daily humidity ranges from 75.537  to 77.97\n",
    "*   **October 23, 2023:** The average daily humidity on this day is approximately 76.95. This suggests that, on average, the humidity level was around 76.95% throughout the day.\n",
    "*   **October 24, 2023:** The average daily humidity on this day is approximately 77.97. This indicates that the average humidity was slightly higher compared to the previous day, at around 77.97%.\n",
    "*   **October 25, 2023:** The average daily humidity on this day is approximately 77.79. It's slightly lower than the previous day but still relatively high.\n",
    "\n",
    "* **October 26, 2023:** The average daily humidity on this day is significantly lower, at approximately 75.54. This suggests that the day might have been drier or less humid compared to the previous days.\n",
    "\n",
    "* **October 27, 2023:** The average daily humidity on this day is approximately 76.46, which is slightly higher than the day before but lower than the initial days.\n",
    "\n",
    "* **October 28, 2023:** The average daily humidity on this day is approximately 76.42. It's similar to the humidity level on October 27, 2023.\n",
    "\n",
    "* **October 29, 2023:** The average daily humidity on this day is approximately 75.99, which is similar to the humidity level on October 26, 2023.\n",
    "\n",
    "\n",
    "\n",
    "\n",
    "\n"
   ]
  },
  {
   "cell_type": "code",
   "execution_count": 11,
   "metadata": {},
   "outputs": [
    {
     "data": {
      "text/html": [
       "<div>\n",
       "<style scoped>\n",
       "    .dataframe tbody tr th:only-of-type {\n",
       "        vertical-align: middle;\n",
       "    }\n",
       "\n",
       "    .dataframe tbody tr th {\n",
       "        vertical-align: top;\n",
       "    }\n",
       "\n",
       "    .dataframe thead th {\n",
       "        text-align: right;\n",
       "    }\n",
       "</style>\n",
       "<table border=\"1\" class=\"dataframe\">\n",
       "  <thead>\n",
       "    <tr style=\"text-align: right;\">\n",
       "      <th></th>\n",
       "      <th>DateTime</th>\n",
       "      <th>Temperature</th>\n",
       "    </tr>\n",
       "  </thead>\n",
       "  <tbody>\n",
       "    <tr>\n",
       "      <th>0</th>\n",
       "      <td>23</td>\n",
       "      <td>30.596154</td>\n",
       "    </tr>\n",
       "    <tr>\n",
       "      <th>1</th>\n",
       "      <td>24</td>\n",
       "      <td>30.694792</td>\n",
       "    </tr>\n",
       "    <tr>\n",
       "      <th>2</th>\n",
       "      <td>25</td>\n",
       "      <td>30.994737</td>\n",
       "    </tr>\n",
       "    <tr>\n",
       "      <th>3</th>\n",
       "      <td>26</td>\n",
       "      <td>30.641667</td>\n",
       "    </tr>\n",
       "    <tr>\n",
       "      <th>4</th>\n",
       "      <td>27</td>\n",
       "      <td>30.792473</td>\n",
       "    </tr>\n",
       "    <tr>\n",
       "      <th>5</th>\n",
       "      <td>28</td>\n",
       "      <td>30.651042</td>\n",
       "    </tr>\n",
       "    <tr>\n",
       "      <th>6</th>\n",
       "      <td>29</td>\n",
       "      <td>30.721978</td>\n",
       "    </tr>\n",
       "  </tbody>\n",
       "</table>\n",
       "</div>"
      ],
      "text/plain": [
       "   DateTime  Temperature\n",
       "0        23    30.596154\n",
       "1        24    30.694792\n",
       "2        25    30.994737\n",
       "3        26    30.641667\n",
       "4        27    30.792473\n",
       "5        28    30.651042\n",
       "6        29    30.721978"
      ]
     },
     "execution_count": 11,
     "metadata": {},
     "output_type": "execute_result"
    }
   ],
   "source": [
    "# Calculate the average daily temperature\n",
    "average_daily_temp = pd.DataFrame(df.groupby([df[\"DateTime\"].dt.day])[\"Temperature\"].mean())\n",
    "\n",
    "# Reset the index to make the day column a regular column\n",
    "average_daily_temp.reset_index(inplace=True)\n",
    "\n",
    "average_daily_temp\n"
   ]
  },
  {
   "cell_type": "code",
   "execution_count": 12,
   "metadata": {},
   "outputs": [
    {
     "data": {
      "image/png": "[encoded data removed]",
      "text/plain": [
       "<Figure size 2000x1000 with 1 Axes>"
      ]
     },
     "metadata": {},
     "output_type": "display_data"
    }
   ],
   "source": [
    "# Create the line plot\n",
    "plt.figure(figsize=(20, 10))\n",
    "plt.title(\"Dailt Average Temperature From October 23, 2023 to October 29, 2023\")\n",
    "sns.set_style(\"whitegrid\")\n",
    "# Use a lineplot from Seaborn\n",
    "sns.lineplot(data=average_daily_temp, x=average_daily_temp['DateTime'], y=average_daily_temp['Temperature'])\n",
    "\n",
    "plt.xlabel(\"Day\")\n",
    "plt.show()"
   ]
  },
  {
   "cell_type": "markdown",
   "metadata": {
    "colab": {
     "base_uri": "https://localhost:8080/",
     "height": 872
    },
    "id": "xl4gjZmzmH8t",
    "outputId": "705235bc-8c6d-43fe-e29a-b3ba283d4813"
   },
   "source": [
    "It can be observed that on October 25, 2023 (Wednesday) was the hottest average daily temperature while October 23, 2023 has the lowest temperature among other days."
   ]
  },
  {
   "cell_type": "markdown",
   "metadata": {},
   "source": [
    "**Conclusion**"
   ]
  },
  {
   "cell_type": "markdown",
   "metadata": {},
   "source": [
    "In conclusion, the study \"Exploring Daily Temperature and Humidity Shifts in Malate, Manila\" provides insights into the variations in daily humidity levels during the period from October 23, 2023, to October 29, 2023. Over this seven-day period, the average daily humidity ranged from 75.54% to 77.97%. Notably, October 26, 2023, stood out with significantly lower humidity, suggesting a drier or less humid day compared to the surrounding days. These findings highlight the dynamic nature of humidity in Malate, Manila, with variations that can influence the local climate and environmental conditions. Additionally, the study reveals temperature patterns during this time frame, with mean temperatures of 30.79°C in the afternoon, 30.76°C in the morning, and 30.67°C at night. The maximum recorded temperature reached 33.8°C, while the minimum temperatures varied from 23.6°C in the morning to 29.9°C in the afternoon and 24.9°C at night, demonstrating fluctuations in daily temperature throughout the week."
   ]
  }
 ],
 "metadata": {
  "colab": {
   "provenance": []
  },
  "kernelspec": {
   "display_name": "Python 3 (ipykernel)",
   "language": "python",
   "name": "python3"
  },
  "language_info": {
   "codemirror_mode": {
    "name": "ipython",
    "version": 3
   },
   "file_extension": ".py",
   "mimetype": "text/x-python",
   "name": "python",
   "nbconvert_exporter": "python",
   "pygments_lexer": "ipython3",
   "version": "3.10.9"
  }
 },
 "nbformat": 4,
 "nbformat_minor": 1
}
